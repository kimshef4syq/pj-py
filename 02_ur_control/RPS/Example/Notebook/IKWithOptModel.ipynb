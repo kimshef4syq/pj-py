{
 "cells": [
  {
   "cell_type": "markdown",
   "source": [
    "## 1. Solve UR IK with OptModel"
   ],
   "metadata": {}
  },
  {
   "cell_type": "code",
   "execution_count": 1,
   "source": [
    "import os\n",
    "\n",
    "import numpy as np\n",
    "from RVBUST.RPS import *\n",
    "np.set_printoptions(precision=4, suppress=True)"
   ],
   "outputs": [],
   "metadata": {}
  },
  {
   "cell_type": "code",
   "execution_count": 2,
   "source": [
    "robot_model = LoadRobotModelFromFile(GetRobotFile(\"UniversalRobots\", \"UR5\"))\n",
    "manipulator = robot_model.GetActiveManipulator()\n",
    "kin_solver = CreateKinSolver(manipulator)\n",
    "dof = 6\n",
    "joints_bounds = np.tile(np.pi, dof)"
   ],
   "outputs": [],
   "metadata": {}
  },
  {
   "cell_type": "markdown",
   "source": [
    "### 1.1 Define problem cost and constraints"
   ],
   "metadata": {}
  },
  {
   "cell_type": "code",
   "execution_count": 3,
   "source": [
    "class IKProb1:\n",
    "    def __init__(self, kin_solver: URsKinematics):\n",
    "        self.kin_solver = kin_solver\n",
    "        self.target_pose = SE3()\n",
    "    \n",
    "    def SetTargetPose(self, pose: SE3):\n",
    "        self.target_pose = pose\n",
    "    \n",
    "    def GetCostVaue(self, x: np.ndarray, *args)->float:\n",
    "        pose = self.kin_solver.GetPositionFK(Rx(x))[1]\n",
    "        return (pose - self.target_pose).WeightedNorm()\n",
    "    # there is no constraints\n",
    "    \n",
    "ikprob1 = IKProb1(kin_solver)"
   ],
   "outputs": [],
   "metadata": {}
  },
  {
   "cell_type": "markdown",
   "source": [
    "### 1.2 Setup OptModel"
   ],
   "metadata": {}
  },
  {
   "cell_type": "code",
   "execution_count": 4,
   "source": [
    "model: OptModel = OptModel()\n",
    "variable_set = VariableSet(dof, bounds=[Bounds(-b, b) for b in joints_bounds], name=\"joints\")\n",
    "model.SetVariableSet(variable_set)"
   ],
   "outputs": [],
   "metadata": {}
  },
  {
   "cell_type": "code",
   "execution_count": 5,
   "source": [
    "cost_term = ExCost(ikprob1.GetCostVaue)\n",
    "model.AddCostTerm(cost_term)"
   ],
   "outputs": [],
   "metadata": {}
  },
  {
   "cell_type": "markdown",
   "source": [
    "### 1.3 Solve with OptSolver"
   ],
   "metadata": {}
  },
  {
   "cell_type": "code",
   "execution_count": 6,
   "source": [
    "solver = NloptSolver()"
   ],
   "outputs": [],
   "metadata": {}
  },
  {
   "cell_type": "markdown",
   "source": [
    "#### Make a guess of initial variable values"
   ],
   "metadata": {}
  },
  {
   "cell_type": "code",
   "execution_count": 7,
   "source": [
    "# joints = np.array([0, -np.pi, np.pi/2, 0, np.pi, 0])\n",
    "joints = np.random.uniform(-np.pi, np.pi, 6)\n",
    "_, target_pose = kin_solver.GetPositionFK(Rx(joints))\n",
    "ikprob1.SetTargetPose(target_pose)\n",
    "joints_init = joints + np.random.uniform(-0.5, 0.5, 6) \n",
    "# joints_init = np.random.uniform(-np.pi, np.pi, 6)\n",
    "np.clip(joints_init, -joints_bounds+0.001, joints_bounds-0.001)"
   ],
   "outputs": [
    {
     "output_type": "execute_result",
     "data": {
      "text/plain": [
       "array([-1.1546,  2.555 ,  1.987 ,  1.6995,  1.2692,  2.5289])"
      ]
     },
     "metadata": {},
     "execution_count": 7
    }
   ],
   "metadata": {}
  },
  {
   "cell_type": "code",
   "execution_count": 8,
   "source": [
    "joints, target_pose"
   ],
   "outputs": [
    {
     "output_type": "execute_result",
     "data": {
      "text/plain": [
       "(array([-0.8969,  2.98  ,  2.4147,  1.2743,  1.7175,  2.3291]),\n",
       " SE3: [-0.006669, 0.163989, 0.20687, -0.271672, 0.357191, -0.378893, 0.809351])"
      ]
     },
     "metadata": {},
     "execution_count": 8
    }
   ],
   "metadata": {}
  },
  {
   "cell_type": "code",
   "execution_count": 9,
   "source": [
    "joints_init"
   ],
   "outputs": [
    {
     "output_type": "execute_result",
     "data": {
      "text/plain": [
       "array([-1.1546,  2.555 ,  1.987 ,  1.6995,  1.2692,  2.5289])"
      ]
     },
     "metadata": {},
     "execution_count": 9
    }
   ],
   "metadata": {}
  },
  {
   "cell_type": "markdown",
   "source": [
    "#### Set solver options, eg. stop criteria"
   ],
   "metadata": {}
  },
  {
   "cell_type": "code",
   "execution_count": 10,
   "source": [
    "solver.Initialize(joints_init, NloptAlgorithm.LD_SLSQP)\n",
    "# opt = solver.GetNloptApp()\n",
    "# opt.set_xtol_rel(1e-5)"
   ],
   "outputs": [
    {
     "output_type": "execute_result",
     "data": {
      "text/plain": [
       "True"
      ]
     },
     "metadata": {},
     "execution_count": 10
    }
   ],
   "metadata": {}
  },
  {
   "cell_type": "code",
   "execution_count": 11,
   "source": [
    "model.GetCostValue(joints_init)"
   ],
   "outputs": [
    {
     "output_type": "execute_result",
     "data": {
      "text/plain": [
       "0.474950993119303"
      ]
     },
     "metadata": {},
     "execution_count": 11
    }
   ],
   "metadata": {}
  },
  {
   "cell_type": "code",
   "execution_count": 12,
   "source": [
    "solver.Solve(model)"
   ],
   "outputs": [
    {
     "output_type": "execute_result",
     "data": {
      "text/plain": [
       "True"
      ]
     },
     "metadata": {},
     "execution_count": 12
    }
   ],
   "metadata": {}
  },
  {
   "cell_type": "markdown",
   "source": [
    "#### Verify"
   ],
   "metadata": {}
  },
  {
   "cell_type": "code",
   "execution_count": 13,
   "source": [
    "joints_opt = model.GetVariableValue()\n",
    "model.GetCostValue(joints_opt), joints_opt"
   ],
   "outputs": [
    {
     "output_type": "execute_result",
     "data": {
      "text/plain": [
       "(3.497103690599789e-06,\n",
       " array([-0.8969,  2.98  ,  2.4147,  1.2743,  1.7175,  2.3291]))"
      ]
     },
     "metadata": {},
     "execution_count": 13
    }
   ],
   "metadata": {}
  },
  {
   "cell_type": "code",
   "execution_count": 14,
   "source": [
    "kin_solver.GetPositionFK(Rx(joints_opt))[1] - ikprob1.target_pose"
   ],
   "outputs": [
    {
     "output_type": "execute_result",
     "data": {
      "text/plain": [
       "SE3Tangent: [-4.59874e-07, 1.74908e-06, 1.91157e-06, -9.753e-07, -7.85275e-07, -2.45163e-06]"
      ]
     },
     "metadata": {},
     "execution_count": 14
    }
   ],
   "metadata": {}
  }
 ],
 "metadata": {
  "kernelspec": {
   "name": "python3",
   "display_name": "Python 3.7.3 64-bit"
  },
  "language_info": {
   "codemirror_mode": {
    "name": "ipython",
    "version": 3
   },
   "file_extension": ".py",
   "mimetype": "text/x-python",
   "name": "python",
   "nbconvert_exporter": "python",
   "pygments_lexer": "ipython3",
   "version": "3.7.3"
  },
  "interpreter": {
   "hash": "31f2aee4e71d21fbe5cf8b01ff0e069b9275f58929596ceb00d14d90e3e16cd6"
  }
 },
 "nbformat": 4,
 "nbformat_minor": 4
}